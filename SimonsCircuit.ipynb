{
 "cells": [
  {
   "cell_type": "markdown",
   "id": "f04c8b68-7a38-49b8-bdc6-564088ffe7ef",
   "metadata": {},
   "source": [
    "Nome Rm Email"
   ]
  },
  {
   "cell_type": "code",
   "execution_count": 2,
   "id": "2982cbf5-90f0-430b-92c1-f76d0dec04fe",
   "metadata": {
    "tags": []
   },
   "outputs": [
    {
     "name": "stdout",
     "output_type": "stream",
     "text": [
      "Requirement already satisfied: pip in /opt/conda/lib/python3.10/site-packages (22.3.1)\n",
      "Collecting pip\n",
      "  Downloading pip-23.3.1-py3-none-any.whl.metadata (3.5 kB)\n",
      "Downloading pip-23.3.1-py3-none-any.whl (2.1 MB)\n",
      "\u001b[2K   \u001b[90m━━━━━━━━━━━━━━━━━━━━━━━━━━━━━━━━━━━━━━━━\u001b[0m \u001b[32m2.1/2.1 MB\u001b[0m \u001b[31m1.7 MB/s\u001b[0m eta \u001b[36m0:00:00\u001b[0m:00:01\u001b[0m00:01\u001b[0m\n",
      "\u001b[?25hInstalling collected packages: pip\n",
      "  Attempting uninstall: pip\n",
      "    Found existing installation: pip 22.3.1\n",
      "    Uninstalling pip-22.3.1:\n",
      "      Successfully uninstalled pip-22.3.1\n",
      "Successfully installed pip-23.3.1\n",
      "Note: you may need to restart the kernel to use updated packages.\n"
     ]
    }
   ],
   "source": [
    "pip install --upgrade pip"
   ]
  },
  {
   "cell_type": "code",
   "execution_count": 1,
   "id": "db14340f-59a5-43a8-9679-cd481c607885",
   "metadata": {
    "tags": []
   },
   "outputs": [
    {
     "name": "stdout",
     "output_type": "stream",
     "text": [
      "Requirement already satisfied: galois in /opt/conda/lib/python3.10/site-packages (0.3.6)\n",
      "Requirement already satisfied: numpy<1.26,>=1.21.0 in /opt/conda/lib/python3.10/site-packages (from galois) (1.23.5)\n",
      "Requirement already satisfied: numba<0.59,>=0.55 in /opt/conda/lib/python3.10/site-packages (from galois) (0.56.4)\n",
      "Requirement already satisfied: typing-extensions>=4.0.0 in /opt/conda/lib/python3.10/site-packages (from galois) (4.4.0)\n",
      "Requirement already satisfied: llvmlite<0.40,>=0.39.0dev0 in /opt/conda/lib/python3.10/site-packages (from numba<0.59,>=0.55->galois) (0.39.1)\n",
      "Requirement already satisfied: setuptools in /opt/conda/lib/python3.10/site-packages (from numba<0.59,>=0.55->galois) (65.5.1)\n",
      "\n",
      "\u001b[1m[\u001b[0m\u001b[34;49mnotice\u001b[0m\u001b[1;39;49m]\u001b[0m\u001b[39;49m A new release of pip is available: \u001b[0m\u001b[31;49m22.3.1\u001b[0m\u001b[39;49m -> \u001b[0m\u001b[32;49m23.3.1\u001b[0m\n",
      "\u001b[1m[\u001b[0m\u001b[34;49mnotice\u001b[0m\u001b[1;39;49m]\u001b[0m\u001b[39;49m To update, run: \u001b[0m\u001b[32;49mpip install --upgrade pip\u001b[0m\n",
      "Note: you may need to restart the kernel to use updated packages.\n"
     ]
    }
   ],
   "source": [
    "pip install galois"
   ]
  },
  {
   "cell_type": "markdown",
   "id": "85060f2d-0fcf-4901-a2f9-01d5bc9a5165",
   "metadata": {
    "tags": []
   },
   "source": [
    "# Algoritmo de Simon\n",
    "O algoritmo de Simon é um problema e um algoritmo quântico que visa encontrar uma string secreta oculta em uma função booleana. Abaixo está uma explicação detalhada das partes do código relacionado à implementação do algoritmo de Simon em computação quântica."
   ]
  },
  {
   "cell_type": "markdown",
   "id": "c8f58935-2b12-453b-82d1-2f3d054aca61",
   "metadata": {
    "tags": []
   },
   "source": [
    "## Função simon_function(s)\n",
    "Esta função cria um circuito quântico que implementa uma porta de consulta (query gate) para o problema de Simon. A string s passada como argumento é a string secreta que o algoritmo tentará encontrar.\n",
    "\n",
    "O circuito quântico tem um total de 2n qubits, onde n é o comprimento da string s. Uma permutação aleatória pi é gerada para esconder a string s. Em seguida, é criada uma matriz query_gate que representa a função f(x) como definida no problema de Simon. Essa função é composta por g(x) = min{x, x ^ s}, onde ^ denota a operação XOR. O circuito quântico consiste apenas na aplicação da matriz query_gate aos qubits."
   ]
  },
  {
   "cell_type": "code",
   "execution_count": 3,
   "id": "05c6b1e0-bfb4-4053-8a0d-4d4024b2b7f3",
   "metadata": {},
   "outputs": [],
   "source": [
    "# import random #é usado para gerar uma permutação aleatória.\n",
    "import qiskit.quantum_info as qi\n",
    "from qiskit import QuantumCircuit\n",
    "import numpy as np\n",
    "\n",
    "\n",
    "def simon_function(s: str):\n",
    "    \"\"\"\n",
    "    Cria um QuantumCircuit que implementa uma porta de consulta para o problema de Simon, obedecendo à promessa da string oculta `s`\n",
    "    \"\"\"\n",
    "    # Nosso circuito quântico tem 2n qubits, onde n = len(s)\n",
    "    n = len(s)\n",
    "    qc = QuantumCircuit(2 * n)\n",
    "\n",
    "    # Define uma permutação aleatória de todas as strings de n bits. Essa permutação efetivamente oculta a string s.\n",
    "    pi = np.random.permutation(2**n)\n",
    "\n",
    "    # Agora vamos definir uma porta de consulta explicitamente. A ideia é primeiro definir uma função g(x) = min{x, x ^ s}, que\n",
    "    # é uma função simples que atende à promessa, e então tomamos f como a composição de g e a permutação aleatória pi. Isso nos dá uma função aleatória que atende à promessa para s.\n",
    "\n",
    "    query_gate = np.zeros((4**n, 4**n))\n",
    "    for x in range(2**n):\n",
    "        for y in range(2**n):\n",
    "            z = y ^ pi[min(x, x ^ int(s, 2))]\n",
    "            query_gate[x + 2**n * z, x + 2**n * y] = 1\n",
    "\n",
    "    # Nosso circuito consiste apenas nessa única porta de consulta\n",
    "    qc.unitary(query_gate, range(2 * n))\n",
    "    return qc"
   ]
  },
  {
   "cell_type": "markdown",
   "id": "027ae467-a014-4750-bda3-a33da4eae8de",
   "metadata": {},
   "source": [
    "## Função simon_measurements(problem, k)\n",
    "Esta função realiza a parte quântica do algoritmo de Simon. Ela recebe como entrada um circuito quântico problem e um número inteiro k. A função cria um novo circuito quântico que realiza as etapas do algoritmo, incluindo a aplicação de portas Hadamard, a composição do circuito problem, a aplicação de mais portas Hadamard e, finalmente, a medição dos qubits. A função utiliza o simulador Aer do Qiskit para executar o circuito qc k vezes e retornar os resultados das medições em formato de memória."
   ]
  },
  {
   "cell_type": "code",
   "execution_count": 4,
   "id": "6ff00e00-0499-488b-813f-b89fb7c50839",
   "metadata": {},
   "outputs": [],
   "source": [
    "from qiskit_aer import AerSimulator\n",
    "from qiskit import ClassicalRegister\n",
    "\n",
    "\n",
    "def simon_measurements(problem: QuantumCircuit, k: int):\n",
    "    \"\"\"\n",
    "    Parte quântica do algoritmo de Simon. Dado um `QuantumCircuit` que\n",
    "    implementa f, obtenha `k` medições para serem processadas posteriormente.\n",
    "    \"\"\"\n",
    "    n = problem.num_qubits // 2\n",
    "\n",
    "    # Cria um circuito quântico com 2n qubits e n qubits de medição.\n",
    "    qc = QuantumCircuit(2 * n, n)\n",
    "    \n",
    "    # Aplica portas Hadamard aos primeiros n qubits.\n",
    "    qc.h(range(n))\n",
    "    \n",
    "    # Componha o circuito com o problema especificado.\n",
    "    qc.compose(problem, inplace=True)\n",
    "    \n",
    "    # Aplica portas Hadamard novamente aos primeiros n qubits.\n",
    "    qc.h(range(n))\n",
    "    \n",
    "    # Realiza medições nos primeiros n qubits e associa-os aos n qubits de medição.\n",
    "    qc.measure(range(n), range(n))\n",
    "\n",
    "    # Executa o circuito no simulador Aer do Qiskit com k disparos (shots) e mantém a memória ativada.\n",
    "    result = AerSimulator().run(qc, shots=k, memory=True).result()\n",
    "    \n",
    "    # Retorna os resultados da memória (resultados individuais das medições).\n",
    "    return result.get_memory()"
   ]
  },
  {
   "cell_type": "code",
   "execution_count": 5,
   "id": "6c627a27-8ef8-448c-9561-fe2a64818a5d",
   "metadata": {},
   "outputs": [
    {
     "data": {
      "text/plain": [
       "['10001',\n",
       " '11011',\n",
       " '00100',\n",
       " '11000',\n",
       " '11000',\n",
       " '10001',\n",
       " '10010',\n",
       " '00000',\n",
       " '00000',\n",
       " '01110',\n",
       " '11100',\n",
       " '11100']"
      ]
     },
     "execution_count": 5,
     "metadata": {},
     "output_type": "execute_result"
    }
   ],
   "source": [
    "simon_measurements(\n",
    "    simon_function(\"11011\"),\n",
    "    k=12\n",
    ")"
   ]
  },
  {
   "cell_type": "markdown",
   "id": "9a8fe952-5462-4c02-b245-6af916997727",
   "metadata": {},
   "source": [
    "## Função simon_algorithm(problem)\n",
    "Esta função é responsável por executar o algoritmo de Simon completo. Recebe como entrada o circuito problem, que deve ser uma porta de consulta criada pela função simon_function. Primeiro, a função chama simon_measurements para obter as medições do circuito quântico, e os resultados são armazenados na variável measurements. Em seguida, faz o seguinte processamento clássico dos resultados:\n",
    "\n",
    "Converte as medições de strings de bits para uma matriz 2D de inteiros.\n",
    "Usa operações de álgebra linear em GF(2) (corpo finito de ordem 2) para encontrar o espaço nulo (null space) da matriz.\n",
    "Converte a solução do espaço nulo de volta para uma string binária, que representa a string secreta s.\n",
    "Finalmente, a função retorna a string binária s."
   ]
  },
  {
   "cell_type": "code",
   "execution_count": 6,
   "id": "9f407b81-87b4-4a2c-9a74-ea0bb98dd71b",
   "metadata": {},
   "outputs": [],
   "source": [
    "import numpy as np\n",
    "import galois\n",
    "\n",
    "\n",
    "def simon_algorithm(problem: QuantumCircuit):\n",
    "    \"\"\"\n",
    "    Dado um `QuantumCircuit` que implementa uma porta de consulta para o problema de Simon, retorna a string oculta `s`.\n",
    "    \"\"\"\n",
    "\n",
    "    # Parte quântica: execute o circuito definido anteriormente k vezes e colete os resultados das medições.\n",
    "    # Substitua +10 por +r para qualquer número inteiro não negativo r, dependendo da confiança desejada.\n",
    "\n",
    "    measurements = simon_measurements(problem, k=problem.num_qubits // 2 + 10)\n",
    "    print(\"Resultados das medições:\")\n",
    "    display(measurements)\n",
    "\n",
    "    # Pós-processamento clássico:\n",
    "\n",
    "    # 1. Converta as medições no formato '11101' para uma matriz 2D de inteiros\n",
    "    matrix = np.array([list(bitstring) for bitstring in measurements]).astype(int)\n",
    "\n",
    "    # 2. Interprete a matriz usando aritmética módulo 2 e encontre o espaço nulo\n",
    "    null_space = galois.GF(2)(matrix).null_space()\n",
    "    print(\"Espaço nulo:\")\n",
    "    display(null_space)\n",
    "\n",
    "    # 3. Converta de volta para uma string\n",
    "    print(\"Palpite para a string oculta s:\")\n",
    "    if len(null_space) == 0:\n",
    "        # Sem solução não trivial; `s` é composta apenas por zeros\n",
    "        return \"0\" * len(measurements[0])\n",
    "    return \"\".join(np.array(null_space[0]).astype(str))"
   ]
  },
  {
   "cell_type": "code",
   "execution_count": 7,
   "id": "e927c336-1420-4fd3-8380-9be1a3b0e0f6",
   "metadata": {},
   "outputs": [
    {
     "name": "stdout",
     "output_type": "stream",
     "text": [
      "Measurement results:\n"
     ]
    },
    {
     "data": {
      "text/plain": [
       "['01100',\n",
       " '00100',\n",
       " '01000',\n",
       " '10010',\n",
       " '00000',\n",
       " '00111',\n",
       " '10001',\n",
       " '01111',\n",
       " '10001',\n",
       " '10001',\n",
       " '10010',\n",
       " '00111',\n",
       " '01000',\n",
       " '01111',\n",
       " '11010']"
      ]
     },
     "metadata": {},
     "output_type": "display_data"
    },
    {
     "name": "stdout",
     "output_type": "stream",
     "text": [
      "Null space:\n"
     ]
    },
    {
     "data": {
      "text/plain": [
       "GF([[1, 0, 0, 1, 1]], order=2)"
      ]
     },
     "metadata": {},
     "output_type": "display_data"
    },
    {
     "name": "stdout",
     "output_type": "stream",
     "text": [
      "Guess for hidden string s:\n"
     ]
    },
    {
     "data": {
      "text/plain": [
       "'10011'"
      ]
     },
     "execution_count": 7,
     "metadata": {},
     "output_type": "execute_result"
    }
   ],
   "source": [
    "simon_algorithm(\n",
    "    simon_function(\"10011\")\n",
    ")"
   ]
  },
  {
   "cell_type": "markdown",
   "id": "0e7b075c-2085-43b8-8325-3a8b08f4384e",
   "metadata": {},
   "source": [
    "# Algoritmo de Simon em Computação Quântica\n",
    "\n",
    "O algoritmo de Simon é um problema e um algoritmo quântico que tem como objetivo encontrar uma string secreta oculta em uma função booleana. Vamos explicar o funcionamento deste algoritmo, incluindo a parte matemática.\n",
    "\n",
    "## Pré-requisitos\n",
    "\n",
    "- Compreensão básica de computação quântica.\n",
    "- Familiaridade com álgebra linear e operações em corpos finitos.\n",
    "\n",
    "## Etapas do Algoritmo\n",
    "\n",
    "O algoritmo de Simon pode ser dividido em três etapas principais:\n",
    "\n",
    "### 1. Parte Quântica\n",
    "\n",
    "A parte quântica do algoritmo envolve a criação de um circuito quântico que implementa uma porta de consulta (query gate) para o problema de Simon. A ideia é definir uma função `f(x)` que satisfaz a promessa do problema, onde `x` é uma entrada de n bits. Isso é feito da seguinte forma:\n",
    "\n",
    "- Um circuito quântico é criado com 2n qubits, onde `n` é o comprimento da string secreta que estamos tentando encontrar.\n",
    "- Uma permutação aleatória de todas as strings de `n` bits é gerada para efetivamente esconder a string secreta.\n",
    "- A função `f(x)` é definida como a composição de duas funções: `g(x)` e a permutação aleatória.\n",
    "- A função `g(x)` é definida como `min{x, x ^ s}`, onde `^` denota a operação XOR.\n",
    "\n",
    "### 2. Medição Quântica\n",
    "\n",
    "O circuito quântico é então executado várias vezes (geralmente muitas vezes mais do que o comprimento da string secreta), e as medições são coletadas. O número de execuções do circuito depende da confiança desejada na determinação da string secreta.\n",
    "\n",
    "### 3. Pós-processamento Clássico\n",
    "\n",
    "Depois de coletar as medições, a parte clássica do algoritmo envolve o seguinte processamento:\n",
    "\n",
    "- As medições são convertidas em uma matriz 2D de inteiros.\n",
    "- A matriz é interpretada como uma operação de aritmética modular 2, e o espaço nulo (null space) é calculado.\n",
    "- A solução do espaço nulo é convertida de volta em uma string binária, que representa a string secreta `s`.\n",
    "\n",
    "## Conclusão\n",
    "\n",
    "O algoritmo de Simon é um exemplo de como a computação quântica pode ser usada para resolver problemas de forma mais eficiente do que abordagens clássicas. Ele aproveita as propriedades quânticas, como a sobreposição e a interferência, para encontrar a string secreta em uma função booleana em um número significativamente menor de iterações do que seria necessário em computação clássica.\n",
    "\n",
    "Espero que esta explicação tenha esclarecido o funcionamento do algoritmo de Simon, incluindo a parte matemática envolvida.\n"
   ]
  }
 ],
 "metadata": {
  "kernelspec": {
   "display_name": "Python 3 (ipykernel)",
   "language": "python",
   "name": "python3"
  },
  "language_info": {
   "codemirror_mode": {
    "name": "ipython",
    "version": 3
   },
   "file_extension": ".py",
   "mimetype": "text/x-python",
   "name": "python",
   "nbconvert_exporter": "python",
   "pygments_lexer": "ipython3",
   "version": "3.10.8"
  },
  "widgets": {
   "application/vnd.jupyter.widget-state+json": {
    "state": {},
    "version_major": 2,
    "version_minor": 0
   }
  }
 },
 "nbformat": 4,
 "nbformat_minor": 5
}
