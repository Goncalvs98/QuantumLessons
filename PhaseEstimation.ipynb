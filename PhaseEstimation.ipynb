{
 "cells": [
  {
   "cell_type": "markdown",
   "id": "e90f1f69-38ac-4bb5-995a-adc81824f0b4",
   "metadata": {
    "tags": []
   },
   "source": [
    "Nome Rm Email"
   ]
  },
  {
   "cell_type": "markdown",
   "id": "2bc5d479-f029-4159-a634-996553d6f87a",
   "metadata": {},
   "source": [
    "O código começa importando as bibliotecas necessárias, incluindo pi (constante matemática π), as funções cos e sin (cosseno e seno), e a classe QuantumCircuit do Qiskit."
   ]
  },
  {
   "cell_type": "code",
   "execution_count": 1,
   "id": "b4f621ce-f4a1-4628-99ea-a24771743011",
   "metadata": {
    "tags": []
   },
   "outputs": [],
   "source": [
    "from math import pi, cos, sin\n",
    "from qiskit import QuantumCircuit"
   ]
  },
  {
   "cell_type": "markdown",
   "id": "5f574cf9-82f8-451b-9509-0f78af666a26",
   "metadata": {},
   "source": [
    "Aqui, um valor chamado theta é definido e pode ser modificado para qualquer valor entre 0 e 1. Esse valor será usado no cálculo posterior."
   ]
  },
  {
   "cell_type": "code",
   "execution_count": 2,
   "id": "e24e30cd-9d08-47e6-b428-e4d8ddb3d660",
   "metadata": {},
   "outputs": [],
   "source": [
    "theta = 0.7  # Can be changed to any value between 0 and 1"
   ]
  },
  {
   "cell_type": "markdown",
   "id": "49be5ddf-5890-4339-b25f-0eb0cee360a5",
   "metadata": {
    "tags": []
   },
   "source": [
    "Um circuito quântico qc é criado com 2 qubits (q0 e q1) e 1 bit clássico (c0)."
   ]
  },
  {
   "cell_type": "code",
   "execution_count": 3,
   "id": "31450ee0-80f1-492a-960f-ec70a47fba46",
   "metadata": {},
   "outputs": [],
   "source": [
    "qc = QuantumCircuit(2, 1)"
   ]
  },
  {
   "cell_type": "markdown",
   "id": "245cc22d-23ff-4353-bb6f-9b448e75fc6d",
   "metadata": {},
   "source": [
    "O vetor próprio é preparado no estado |1> aplicando uma porta X (porta de negação) no qubit q1. A barreira (barrier()) é usada para separar etapas do circuito para melhor visualização."
   ]
  },
  {
   "cell_type": "code",
   "execution_count": 4,
   "id": "035f5491-89f4-45ac-9712-88fcfd6d9e4a",
   "metadata": {},
   "outputs": [
    {
     "data": {
      "text/plain": [
       "<qiskit.circuit.instructionset.InstructionSet at 0x7f935a4bc9a0>"
      ]
     },
     "execution_count": 4,
     "metadata": {},
     "output_type": "execute_result"
    }
   ],
   "source": [
    "# Prepare eigenvector, which is the |1> state\n",
    "qc.x(1)\n",
    "qc.barrier()"
   ]
  },
  {
   "cell_type": "markdown",
   "id": "77b62ec5-2510-4539-98e2-18106c7606f0",
   "metadata": {},
   "source": [
    "O procedimento de estimação é implementado. Inicialmente, uma porta Hadamard (h(0)) é aplicada ao qubit q0. Em seguida, a porta de controle de fase (cp()) é aplicada com o ângulo 2 * pi * theta entre q0 e q1. Por fim, outra porta Hadamard (h(0)) é aplicada em q0."
   ]
  },
  {
   "cell_type": "code",
   "execution_count": 5,
   "id": "f7ead293-af04-427e-a99a-9e2eb3b877df",
   "metadata": {},
   "outputs": [
    {
     "data": {
      "text/plain": [
       "<qiskit.circuit.instructionset.InstructionSet at 0x7f935a4bcf40>"
      ]
     },
     "execution_count": 5,
     "metadata": {},
     "output_type": "execute_result"
    }
   ],
   "source": [
    "# Implement the estimation procedure\n",
    "qc.h(0)\n",
    "qc.cp(2 * pi * theta, 0, 1)\n",
    "qc.h(0)\n",
    "qc.barrier()"
   ]
  },
  {
   "cell_type": "markdown",
   "id": "de0f3d15-4cbf-4328-84cf-d0edcc3bd496",
   "metadata": {},
   "source": [
    "A medição final é realizada, onde o resultado é armazenado no bit clássico c0, correspondente ao qubit q0."
   ]
  },
  {
   "cell_type": "code",
   "execution_count": 6,
   "id": "575f1412-bc13-437d-959e-a7debb8164aa",
   "metadata": {},
   "outputs": [
    {
     "data": {
      "text/plain": [
       "<qiskit.circuit.instructionset.InstructionSet at 0x7f935a4bc790>"
      ]
     },
     "execution_count": 6,
     "metadata": {},
     "output_type": "execute_result"
    }
   ],
   "source": [
    "# Perform the final measurement\n",
    "qc.measure(0, 0)"
   ]
  },
  {
   "cell_type": "markdown",
   "id": "45f1fe21-3b47-4f37-a187-43bce5eb0e46",
   "metadata": {},
   "source": [
    "O circuito quântico é desenhado e exibido para visualização."
   ]
  },
  {
   "cell_type": "code",
   "execution_count": 7,
   "id": "03fa5fb6-81c3-4f74-87f0-3e881ca42e44",
   "metadata": {},
   "outputs": [
    {
     "data": {
      "image/png": "[encoded data removed]",
      "text/plain": [
       "<Figure size 788.961x284.278 with 1 Axes>"
      ]
     },
     "metadata": {},
     "output_type": "display_data"
    }
   ],
   "source": [
    "# Draw the circuit\n",
    "display(qc.draw())"
   ]
  },
  {
   "cell_type": "code",
   "execution_count": 8,
   "id": "bdcad0ea-e873-431c-92ef-145f2dbb4729",
   "metadata": {},
   "outputs": [
    {
     "data": {
      "text/plain": [
       "{0: 0.3454915028125262, 1: 0.6545084971874736}"
      ]
     },
     "metadata": {},
     "output_type": "display_data"
    }
   ],
   "source": [
    "from qiskit.primitives import Sampler\n",
    "\n",
    "display(Sampler().run(qc).result().quasi_dists[0])"
   ]
  },
  {
   "cell_type": "markdown",
   "id": "9a87049a-b235-4cce-ac7c-80abfd52edf3",
   "metadata": {},
   "source": [
    "O circuito é executado usando o Qiskit. Os resultados das medições são exibidos, bem como os resultados esperados calculados. Isso compara os resultados reais com os resultados previstos com base no valor de theta."
   ]
  },
  {
   "cell_type": "code",
   "execution_count": 9,
   "id": "d42a9eb8-b37b-4536-9949-5f8e7be75a8e",
   "metadata": {},
   "outputs": [
    {
     "data": {
      "text/plain": [
       "{0: 0.34549150281252616, 1: 0.6545084971874737}"
      ]
     },
     "metadata": {},
     "output_type": "display_data"
    }
   ],
   "source": [
    "display({   # Calculate predicted results\n",
    "    0: cos(pi * theta) ** 2,\n",
    "    1: sin(pi * theta) ** 2\n",
    "})"
   ]
  },
  {
   "cell_type": "markdown",
   "id": "318de830-bde5-4019-8e09-967d58639bba",
   "metadata": {},
   "source": [
    "# Estimação de Fase (Phase Estimation) em Computação Quântica\n",
    "\n",
    "A Estimação de Fase é um dos algoritmos quânticos mais fundamentais e é usado para estimar a fase de um operador unitário em um estado quântico. Vamos explicar o funcionamento da Estimação de Fase, incluindo a parte matemática.\n",
    "\n",
    "## Pré-requisitos\n",
    "\n",
    "- Compreensão básica de computação quântica.\n",
    "- Familiaridade com operações matemáticas, como exponenciais complexas e operadores unitários.\n",
    "\n",
    "## Etapas da Estimação de Fase\n",
    "\n",
    "A Estimação de Fase envolve as seguintes etapas:\n",
    "\n",
    "### 1. Preparação do Estado\n",
    "\n",
    "- Inicialmente, preparamos um estado quântico que contém um qubit de controle e um registrador de destino com qubits suficientes para armazenar a estimativa de fase.\n",
    "- O registrador de destino é inicializado em um estado conveniente, geralmente o estado |0⟩.\n",
    "\n",
    "### 2. Aplicação do Operador de Fase\n",
    "\n",
    "- Em seguida, aplicamos um operador unitário U controlado pelo qubit de controle.\n",
    "- O operador U é aquele cuja fase desejamos estimar.\n",
    "\n",
    "### 3. Transformada de Fourier Quântica (QFT)\n",
    "\n",
    "- Aplicamos a Transformada de Fourier Quântica (QFT) ao registrador de destino.\n",
    "- A QFT gera uma superposição de estados com amplitudes relacionadas à fase que queremos estimar.\n",
    "\n",
    "### 4. Medição\n",
    "\n",
    "- Realizamos medições no registrador de destino.\n",
    "- As medições colapsam o estado quântico, fornecendo uma estimativa da fase.\n",
    "\n",
    "## Matemática da Estimação de Fase\n",
    "\n",
    "A parte matemática da Estimação de Fase envolve a aplicação do operador de fase e a QFT. A fase é estimada medindo os qubits no registrador de destino após a aplicação da QFT.\n",
    "\n",
    "A fase estimada é diretamente relacionada à probabilidade de medir um valor específico. A precisão da estimativa depende do número de qubits no registrador de destino.\n",
    "\n",
    "## Aplicações\n",
    "\n",
    "A Estimação de Fase tem várias aplicações em computação quântica, incluindo algoritmos de fatorização de inteiros, algoritmos de busca quantica e simulações quânticas.\n",
    "\n",
    "## Conclusão\n",
    "\n",
    "A Estimação de Fase é uma técnica quântica poderosa para estimar a fase de operadores unitários em estados quânticos. Ela é fundamental em muitos algoritmos quânticos e simulações. A precisão da estimativa depende do número de qubits no registrador de destino.\n",
    "\n",
    "Espero que esta explicação tenha esclarecido o funcionamento da Estimação de Fase, incluindo a parte matemática envolvida.\n"
   ]
  },
  {
   "cell_type": "code",
   "execution_count": 10,
   "id": "a63706fc-5aad-4bdc-b300-88238a9b7f9c",
   "metadata": {},
   "outputs": [
    {
     "data": {
      "image/png": "[encoded data removed]",
      "text/plain": [
       "<Figure size 788.961x284.278 with 1 Axes>"
      ]
     },
     "metadata": {},
     "output_type": "display_data"
    }
   ],
   "source": [
    "from math import pi, cos, sin\n",
    "from qiskit import QuantumCircuit\n",
    "\n",
    "theta = 0.7  # Can be changed to any value between 0 and 1\n",
    "\n",
    "qc = QuantumCircuit(2, 1)\n",
    "\n",
    "# Prepare eigenvector, which is the |1> state\n",
    "\n",
    "qc.x(1)\n",
    "qc.barrier()\n",
    "\n",
    "# Implement the estimation procedure\n",
    "qc.h(0)\n",
    "qc.cp(2 * pi * theta, 0, 1)\n",
    "qc.h(0)\n",
    "qc.barrier()\n",
    "\n",
    "# Perform the final measurement\n",
    "qc.measure(0, 0)\n",
    "\n",
    "# Draw the circuit\n",
    "display(qc.draw())"
   ]
  },
  {
   "cell_type": "markdown",
   "id": "28353f83-e818-4ff9-92ae-ee4875ff2bbe",
   "metadata": {},
   "source": [
    "Agora uma versão simplificada que se concentra apenas na etapa de Estimação de Fase do procedimento, omitindo a preparação do estado inicial e a Transformada de Fourier Quântica."
   ]
  },
  {
   "cell_type": "code",
   "execution_count": 11,
   "id": "2a516986-6d02-480f-8aac-ccab8c16d74b",
   "metadata": {},
   "outputs": [
    {
     "data": {
      "text/plain": [
       "{0: 0.3454915028125262, 1: 0.6545084971874736}"
      ]
     },
     "metadata": {},
     "output_type": "display_data"
    }
   ],
   "source": [
    "from qiskit.primitives import Sampler\n",
    "\n",
    "display(Sampler().run(qc).result().quasi_dists[0])"
   ]
  },
  {
   "cell_type": "code",
   "execution_count": 12,
   "id": "2f1a959b-9a8b-4be5-b2fc-d4358de8569c",
   "metadata": {},
   "outputs": [
    {
     "data": {
      "text/plain": [
       "{0: 0.34549150281252616, 1: 0.6545084971874737}"
      ]
     },
     "metadata": {},
     "output_type": "display_data"
    }
   ],
   "source": [
    "display({   # Calculate predicted results\n",
    "    0: cos(pi * theta) ** 2,\n",
    "    1: sin(pi * theta) ** 2\n",
    "})"
   ]
  },
  {
   "cell_type": "markdown",
   "id": "a27e89f3-0196-421b-acd9-3dcf4c116dc3",
   "metadata": {},
   "source": [
    "Neste código, um circuito quântico com 3 qubits é usado (q0, q1, q2), com 2 bits clássicos (c0, c1) para medição.\n",
    "\n",
    "Assim como no segundo código, o código atual começa com a preparação do vetor próprio aplicando uma porta X (porta de negação) ao qubit q2.\n",
    "\n",
    "Ambos os códigos incluem as etapas iniciais com portas Hadamard (portas H) nos qubits q0 e q1.\n",
    "\n",
    "A diferença está nos operadores de controle de fase (cp) aplicados. Neste código, são aplicados dois operadores de controle de fase em q0 (para o qubit q2) e q1 (também para o qubit q2). Os ângulos são diferentes, refletindo uma estimativa mais precisa da fase.\n",
    "\n",
    "O código atual inclui uma implementação da inversa da Transformada de Fourier Quântica (QFT) para dois qubits, que envolve a troca dos qubits, portas Hadamard e operadores de controle de fase. Esta é uma etapa que permite a recuperação da estimativa de fase.\n",
    "\n",
    "Da mesma forma que o segundo código, este código também inclui medições nos qubits q0 e q1 e armazena os resultados nos bits clássicos c0 e c1.\n",
    "\n",
    "Em comparação com o segundo código, este código é um pouco mais complexo devido às operações adicionais da inversa da QFT e aos ângulos diferentes nos operadores de controle de fase."
   ]
  },
  {
   "cell_type": "code",
   "execution_count": 13,
   "id": "1d6ea571-730d-4c23-84ae-e56340e2adab",
   "metadata": {},
   "outputs": [
    {
     "data": {
      "image/png": "[encoded data removed]",
      "text/plain": [
       "<Figure size 1541.66x367.889 with 1 Axes>"
      ]
     },
     "metadata": {},
     "output_type": "display_data"
    }
   ],
   "source": [
    "from math import pi\n",
    "from qiskit import QuantumCircuit\n",
    "\n",
    "theta = 0.7\n",
    "qc = QuantumCircuit(3, 2)\n",
    "\n",
    "# Prepare the eigenvector\n",
    "qc.x(2)\n",
    "qc.barrier()\n",
    "\n",
    "# The initial Hadamard gates\n",
    "qc.h(0)\n",
    "qc.h(1)\n",
    "qc.barrier()\n",
    "\n",
    "# The controlled unitary gates\n",
    "qc.cp(2 * pi * theta, 0, 2)\n",
    "qc.cp(2 * pi * (2 * theta), 1, 2)\n",
    "qc.barrier()\n",
    "\n",
    "# An implementation of the inverse of the two-qubit QFT\n",
    "qc.swap(0, 1)\n",
    "qc.h(0)\n",
    "qc.cp(-pi / 2, 0, 1)\n",
    "qc.h(1)\n",
    "qc.barrier()\n",
    "\n",
    "# And finally the measurements\n",
    "qc.measure([0, 1], [0, 1])\n",
    "display(qc.draw())"
   ]
  },
  {
   "cell_type": "code",
   "execution_count": 14,
   "id": "2f797a22-bd38-4714-a054-4b6489d88b56",
   "metadata": {
    "tags": []
   },
   "outputs": [
    {
     "data": {
      "image/png": "[encoded data removed]",
      "text/plain": [
       "<Figure size 700x500 with 1 Axes>"
      ]
     },
     "metadata": {},
     "output_type": "display_data"
    }
   ],
   "source": [
    "from qiskit.visualization import plot_histogram\n",
    "\n",
    "result = Sampler().run(qc).result()\n",
    "display(plot_histogram(result.quasi_dists))"
   ]
  }
 ],
 "metadata": {
  "kernelspec": {
   "display_name": "Python 3 (ipykernel)",
   "language": "python",
   "name": "python3"
  },
  "language_info": {
   "codemirror_mode": {
    "name": "ipython",
    "version": 3
   },
   "file_extension": ".py",
   "mimetype": "text/x-python",
   "name": "python",
   "nbconvert_exporter": "python",
   "pygments_lexer": "ipython3",
   "version": "3.10.8"
  },
  "widgets": {
   "application/vnd.jupyter.widget-state+json": {
    "state": {},
    "version_major": 2,
    "version_minor": 0
   }
  }
 },
 "nbformat": 4,
 "nbformat_minor": 5
}
